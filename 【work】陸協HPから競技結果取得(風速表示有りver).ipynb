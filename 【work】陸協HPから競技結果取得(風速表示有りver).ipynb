{
 "cells": [
  {
   "cell_type": "code",
   "execution_count": null,
   "id": "b51cfc32",
   "metadata": {},
   "outputs": [],
   "source": [
    "記録速報HPから指定した文字列を含む記録を取得する"
   ]
  },
  {
   "cell_type": "code",
   "execution_count": null,
   "id": "74dc249b",
   "metadata": {},
   "outputs": [],
   "source": [
    "from bs4 import BeautifulSoup\n",
    "import requests\n",
    "import re\n",
    "\n",
    "# URLからHTMLを取得\n",
    "url = \"https://shizuriku21.sakura.ne.jp/t&f/ogasa/240615.htm\"\n",
    "response = requests.get(url)\n",
    "html = response.content.decode('cp932', errors='ignore')\n",
    "\n",
    "# 正規表現で文字列を検索(風速の取得)\n",
    "pattern = r\"\\([\\+\\-].*?\\)\"\n",
    "matches = re.findall(pattern, html)\n",
    "\n",
    "# BeautifulSoupを使ってHTMLを解析\n",
    "soup = BeautifulSoup(html, \"html.parser\")\n",
    "\n",
    "# \"掛川北中\"が含まれる<table>要素を抽出\n",
    "table_index = 1\n",
    "tables = soup.find_all(\"table\")\n",
    "for table in tables:\n",
    "    rows = table.find_all(\"tr\")\n",
    "    # 各<tr>タグの属するセクションの<h2><a></a></h2>内データを取得\n",
    "    section_title = table.find_previous(\"a\").text.strip()\n",
    "    for row in rows:\n",
    "        row_data = []\n",
    "        for elem in row.find_all(\"td\"):\n",
    "            row_data.append(elem.text.strip())\n",
    "        if \"掛川北中\" in row_data:\n",
    "            # matches内の要素数とtable index数を比較し，リスト外は風速表記なし\n",
    "            if table_index - 1 < len(matches):\n",
    "                print(f\"{section_title}: {matches[table_index - 1]}: {row_data}\")\n",
    "            else:\n",
    "                print(f\"{section_title}: {row_data}\")\n",
    "    table_index += 1\n",
    "\n",
    "#20240425--- 風速は実際の組と一致していない可能性があるので，要確認\n",
    "print(\"end\")"
   ]
  },
  {
   "cell_type": "code",
   "execution_count": null,
   "id": "c15147fb",
   "metadata": {},
   "outputs": [],
   "source": []
  }
 ],
 "metadata": {
  "kernelspec": {
   "display_name": "Python 3 (ipykernel)",
   "language": "python",
   "name": "python3"
  },
  "language_info": {
   "codemirror_mode": {
    "name": "ipython",
    "version": 3
   },
   "file_extension": ".py",
   "mimetype": "text/x-python",
   "name": "python",
   "nbconvert_exporter": "python",
   "pygments_lexer": "ipython3",
   "version": "3.9.13"
  }
 },
 "nbformat": 4,
 "nbformat_minor": 5
}
